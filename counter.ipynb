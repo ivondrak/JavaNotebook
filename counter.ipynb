{
 "cells": [
  {
   "cell_type": "code",
   "execution_count": 2,
   "metadata": {
    "vscode": {
     "languageId": "java"
    }
   },
   "outputs": [
    {
     "name": "stdout",
     "output_type": "stream",
     "text": [
      "1\n"
     ]
    }
   ],
   "source": [
    "class Counter {\n",
    "    private int count = 0;\n",
    "\n",
    "    public synchronized void increment() {\n",
    "        count++;\n",
    "    }\n",
    "\n",
    "    public synchronized void decrement() {\n",
    "        count--;\n",
    "    }\n",
    "\n",
    "    public synchronized int value() {\n",
    "        return count;\n",
    "    }\n",
    "}\n",
    "\n",
    "Counter x = new Counter();\n",
    "x.increment();\n",
    "x.increment();\n",
    "x.decrement();\n",
    "System.out.println(x.value());\n"
   ]
  }
 ],
 "metadata": {
  "kernelspec": {
   "display_name": "Java",
   "language": "java",
   "name": "java"
  },
  "language_info": {
   "codemirror_mode": "java",
   "file_extension": ".jshell",
   "mimetype": "text/x-java-source",
   "name": "Java",
   "pygments_lexer": "java",
   "version": "21+35-LTS-2513"
  }
 },
 "nbformat": 4,
 "nbformat_minor": 2
}
