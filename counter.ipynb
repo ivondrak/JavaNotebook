{
 "cells": [
  {
   "cell_type": "markdown",
   "metadata": {},
   "source": [
    "## Counter App\n",
    "### Counter without GUI\n"
   ]
  },
  {
   "cell_type": "code",
   "execution_count": 1,
   "metadata": {
    "vscode": {
     "languageId": "java"
    }
   },
   "outputs": [
    {
     "data": {
      "text/plain": [
       "Counter: 1"
      ]
     },
     "execution_count": 1,
     "metadata": {},
     "output_type": "execute_result"
    }
   ],
   "source": [
    "class Counter {\n",
    "    private int count = 0;\n",
    "\n",
    "    public void increment() {\n",
    "        count++;\n",
    "    }\n",
    "\n",
    "    public void decrement() {\n",
    "        count--;\n",
    "    }\n",
    "\n",
    "    public int value() {\n",
    "        return count;\n",
    "    }\n",
    "\n",
    "    public String toString() {\n",
    "        return \"Counter: \" + count;\n",
    "    }\n",
    "}\n",
    "\n",
    "Counter x = new Counter();\n",
    "x.increment();\n",
    "x.increment();\n",
    "x.decrement();\n",
    "x.toString(); // Counter: 1\n"
   ]
  },
  {
   "cell_type": "markdown",
   "metadata": {},
   "source": [
    "### Counter with GUI\n",
    "Import libraries"
   ]
  },
  {
   "cell_type": "code",
   "execution_count": 2,
   "metadata": {
    "vscode": {
     "languageId": "java"
    }
   },
   "outputs": [],
   "source": [
    "import javax.swing.*;\n",
    "import javax.swing.border.TitledBorder;\n",
    "import java.awt.*;\n",
    "import java.awt.event.ActionEvent;\n",
    "import java.awt.event.ActionListener;"
   ]
  },
  {
   "cell_type": "markdown",
   "metadata": {},
   "source": [
    "Create user interface"
   ]
  },
  {
   "cell_type": "code",
   "execution_count": 3,
   "metadata": {
    "vscode": {
     "languageId": "java"
    }
   },
   "outputs": [],
   "source": [
    "public class CounterApp {\n",
    "    public JPanel counterPanel;\n",
    "    private JPanel northPanel;\n",
    "    private JLabel counterLabel;\n",
    "    private JTextField counterField;\n",
    "    private JPanel southPanel;\n",
    "    private JButton incrementButton;\n",
    "    private JButton decrementButton;\n",
    "\n",
    "    private Counter counter;\n",
    "\n",
    "    public CounterApp() {\n",
    "        setupUI();\n",
    "        incrementButton.addActionListener(new ActionListener() {\n",
    "            @Override\n",
    "            public void actionPerformed(ActionEvent e) {\n",
    "                counter.increment();\n",
    "                counterField.setText(counter.toString());\n",
    "            }\n",
    "        });\n",
    "        decrementButton.addActionListener(new ActionListener() {\n",
    "            @Override\n",
    "            public void actionPerformed(ActionEvent e) {\n",
    "                counter.decrement();\n",
    "                counterField.setText(counter.toString());\n",
    "            }\n",
    "        });\n",
    "        counter = new Counter();\n",
    "        counterField.setText(counter.toString());\n",
    "    }\n",
    "\n",
    "    public void run() {\n",
    "        JFrame frame = new JFrame(\"Counter App\");\n",
    "        frame.setContentPane(new CounterApp().counterPanel);\n",
    "        frame.setDefaultCloseOperation(JFrame.EXIT_ON_CLOSE);\n",
    "        frame.pack();\n",
    "        frame.setVisible(true);\n",
    "    }\n",
    "\n",
    "    private void setupUI() {\n",
    "        counterPanel = new JPanel();\n",
    "        counterPanel.setLayout(new BorderLayout(5, 5));\n",
    "        counterPanel.setBorder(BorderFactory.createTitledBorder(BorderFactory.createEmptyBorder(5, 5, 5, 5), null, TitledBorder.DEFAULT_JUSTIFICATION, TitledBorder.DEFAULT_POSITION, null, null));\n",
    "        northPanel = new JPanel();\n",
    "        northPanel.setLayout(new BorderLayout(5, 5));\n",
    "        counterPanel.add(northPanel, BorderLayout.NORTH);\n",
    "        counterLabel = new JLabel();\n",
    "        counterLabel.setText(\"Counter value: \");\n",
    "        northPanel.add(counterLabel, BorderLayout.WEST);\n",
    "        counterField = new JTextField();\n",
    "        northPanel.add(counterField, BorderLayout.CENTER);\n",
    "        southPanel = new JPanel();\n",
    "        southPanel.setLayout(new BorderLayout(5, 5));\n",
    "        counterPanel.add(southPanel, BorderLayout.SOUTH);\n",
    "        incrementButton = new JButton();\n",
    "        incrementButton.setText(\"Increment\");\n",
    "        southPanel.add(incrementButton, BorderLayout.WEST);\n",
    "        decrementButton = new JButton();\n",
    "        decrementButton.setText(\"Decrement\");\n",
    "        southPanel.add(decrementButton, BorderLayout.EAST);\n",
    "    }\n",
    "}"
   ]
  },
  {
   "cell_type": "markdown",
   "metadata": {},
   "source": [
    "Run the application"
   ]
  },
  {
   "cell_type": "code",
   "execution_count": 4,
   "metadata": {
    "vscode": {
     "languageId": "java"
    }
   },
   "outputs": [
    {
     "ename": "",
     "evalue": "",
     "output_type": "error",
     "traceback": [
      "\u001b[1;31mPři provádění kódu v aktuální buňce nebo předchozí buňce došlo k chybovému ukončení jádra. \n",
      "\u001b[1;31mZkontrolujte prosím kód v buňkách a identifikujte možnou příčinu selhání. \n",
      "\u001b[1;31mPro další informace klikněte <a href='https://aka.ms/vscodeJupyterKernelCrash'>sem</a>. \n",
      "\u001b[1;31mZobrazte si podrobnosti, které najdete v <a href='command:jupyter.viewOutput'>protokolu</a> Jupyteru."
     ]
    }
   ],
   "source": [
    "CounterApp app = new CounterApp();\n",
    "app.run();"
   ]
  }
 ],
 "metadata": {
  "kernelspec": {
   "display_name": "Java",
   "language": "java",
   "name": "java"
  },
  "language_info": {
   "codemirror_mode": "java",
   "file_extension": ".jshell",
   "mimetype": "text/x-java-source",
   "name": "Java",
   "pygments_lexer": "java",
   "version": "21+35-LTS-2513"
  }
 },
 "nbformat": 4,
 "nbformat_minor": 2
}
